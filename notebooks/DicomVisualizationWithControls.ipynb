{
 "cells": [
  {
   "cell_type": "code",
   "execution_count": null,
   "metadata": {},
   "outputs": [],
   "source": [
    "# install required libraries\n",
    "!pip install pydicom\n",
    "!pip install imageio\n",
    "!pip install nilearn\n",
    "!pip install nibabel"
   ]
  },
  {
   "cell_type": "code",
   "execution_count": null,
   "metadata": {},
   "outputs": [],
   "source": [
    "import os\n",
    "import numpy as np\n",
    "import nibabel as nib\n",
    "import pydicom\n",
    "import nilearn.plotting as nlp\n",
    "\n",
    "# Define the DICOM filename\n",
    "dcm_filename = '/workspaces/dicom-nrrd-images-poc/data/0002.DCM'  # Change this to the desired filename\n",
    "\n",
    "# Load the DICOM image\n",
    "dcm_data = pydicom.dcmread(dcm_filename)\n",
    "\n",
    "# Extract the image data and metadata\n",
    "image_data = dcm_data.pixel_array.astype(float)\n",
    "pixel_spacing = [1.0, 1.0]\n",
    "slice_thickness = 5.0\n",
    "\n",
    "# Create the affine matrix and NIfTI header\n",
    "image_affine = np.diag([pixel_spacing[0], pixel_spacing[1], slice_thickness, 1.0])\n",
    "image_header = nib.nifti1.Nifti1Header()\n",
    "\n",
    "# Save the image as a NIfTI file\n",
    "nifti_filename = os.path.splitext(dcm_filename)[0] + '.nii.gz'\n",
    "nifti_image = nib.Nifti1Image(image_data, image_affine, header=image_header)\n",
    "nib.save(nifti_image, nifti_filename)\n",
    "\n",
    "# Load the NIfTI image and visualize it as a 3D plot\n",
    "nifti_image = nib.load(nifti_filename)\n",
    "vmin = np.min(image_data)\n",
    "vmax = np.percentile(image_data, 99)\n",
    "nlp.view_img_on_surf(nifti_image, surf_mesh='fsaverage', cmap='jet', symmetric_cmap=False, vmin=vmin, vmax=vmax)"
   ]
  },
  {
   "cell_type": "code",
   "execution_count": null,
   "metadata": {},
   "outputs": [],
   "source": [
    "import os\n",
    "import numpy as np\n",
    "import nibabel as nib\n",
    "import pydicom\n",
    "import nilearn.plotting as nlp\n",
    "\n",
    "# Define the DICOM filename\n",
    "dcm_filename = '/workspaces/dicom-nrrd-images-poc/data/0002.DCM'  # Change this to the desired filename\n",
    "\n",
    "# Load the DICOM image\n",
    "dcm_data = pydicom.dcmread(dcm_filename)\n",
    "\n",
    "# Extract the image data and metadata\n",
    "image_data = dcm_data.pixel_array.astype(float)\n",
    "pixel_spacing = [1.0, 1.0]\n",
    "slice_thickness = 5.0\n",
    "\n",
    "# Create the affine matrix and NIfTI header\n",
    "image_affine = np.diag([pixel_spacing[0], pixel_spacing[1], slice_thickness, 1.0])\n",
    "image_header = nib.nifti1.Nifti1Header()\n",
    "\n",
    "# Save the image as a NIfTI file\n",
    "nifti_filename = os.path.splitext(dcm_filename)[0] + '.nii.gz'\n",
    "nifti_image = nib.Nifti1Image(image_data, image_affine, header=image_header)\n",
    "nib.save(nifti_image, nifti_filename)\n",
    "\n",
    "# Load the NIfTI image and visualize it as an interactive 3D plot\n",
    "nifti_image = nib.load(nifti_filename)\n",
    "vmin = np.min(image_data)\n",
    "vmax = np.percentile(image_data, 99)\n",
    "nlp.view_img(nifti_image, threshold=None, cmap='gray', symmetric_cmap=False, vmin=vmin, vmax=vmax)"
   ]
  },
  {
   "cell_type": "code",
   "execution_count": null,
   "metadata": {},
   "outputs": [],
   "source": []
  }
 ],
 "metadata": {
  "kernelspec": {
   "display_name": "Python 3 (ipykernel)",
   "language": "python",
   "name": "python3"
  },
  "language_info": {
   "codemirror_mode": {
    "name": "ipython",
    "version": 3
   },
   "file_extension": ".py",
   "mimetype": "text/x-python",
   "name": "python",
   "nbconvert_exporter": "python",
   "pygments_lexer": "ipython3",
   "version": "3.10.4"
  }
 },
 "nbformat": 4,
 "nbformat_minor": 2
}
