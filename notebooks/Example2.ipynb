{
 "cells": [
  {
   "cell_type": "code",
   "execution_count": 5,
   "metadata": {},
   "outputs": [
    {
     "ename": "ImportError",
     "evalue": "libGL.so.1: cannot open shared object file: No such file or directory",
     "output_type": "error",
     "traceback": [
      "\u001b[0;31m---------------------------------------------------------------------------\u001b[0m",
      "\u001b[0;31mImportError\u001b[0m                               Traceback (most recent call last)",
      "Cell \u001b[0;32mIn[5], line 1\u001b[0m\n\u001b[0;32m----> 1\u001b[0m \u001b[39mimport\u001b[39;00m \u001b[39mvtk\u001b[39;00m\n\u001b[1;32m      2\u001b[0m \u001b[39mimport\u001b[39;00m \u001b[39mpydicom\u001b[39;00m\n\u001b[1;32m      3\u001b[0m \u001b[39mimport\u001b[39;00m \u001b[39mos\u001b[39;00m\n",
      "File \u001b[0;32m~/.python/current/lib/python3.10/site-packages/vtk.py:5\u001b[0m\n\u001b[1;32m      3\u001b[0m \u001b[39m# this module has the same contents as vtkmodules.all\u001b[39;00m\n\u001b[1;32m      4\u001b[0m \u001b[39mfrom\u001b[39;00m \u001b[39mvtkmodules\u001b[39;00m\u001b[39m.\u001b[39;00m\u001b[39mvtkCommonCore\u001b[39;00m \u001b[39mimport\u001b[39;00m \u001b[39m*\u001b[39m\n\u001b[0;32m----> 5\u001b[0m \u001b[39mfrom\u001b[39;00m \u001b[39mvtkmodules\u001b[39;00m\u001b[39m.\u001b[39;00m\u001b[39mvtkWebCore\u001b[39;00m \u001b[39mimport\u001b[39;00m \u001b[39m*\u001b[39m\n\u001b[1;32m      6\u001b[0m \u001b[39mfrom\u001b[39;00m \u001b[39mvtkmodules\u001b[39;00m\u001b[39m.\u001b[39;00m\u001b[39mvtkCommonMath\u001b[39;00m \u001b[39mimport\u001b[39;00m \u001b[39m*\u001b[39m\n\u001b[1;32m      7\u001b[0m \u001b[39mfrom\u001b[39;00m \u001b[39mvtkmodules\u001b[39;00m\u001b[39m.\u001b[39;00m\u001b[39mvtkCommonTransforms\u001b[39;00m \u001b[39mimport\u001b[39;00m \u001b[39m*\u001b[39m\n",
      "\u001b[0;31mImportError\u001b[0m: libGL.so.1: cannot open shared object file: No such file or directory"
     ]
    }
   ],
   "source": [
    "import vtk\n",
    "import pydicom\n",
    "import os\n",
    "\n",
    "\n",
    "####This code loads a DICOM image stack from a folder, extracts the image dimensions and voxel spacing, \n",
    "# creates a VTK image data object, copies the DICOM pixel data into the VTK image data object, \n",
    "# creates a VTK renderer and window, creates a VTK volume and mapper, adds the volume to the renderer, \n",
    "# and starts the VTK event loop to display the image. \n",
    "# You can modify the parameters of the volume mapper to adjust the image quality and rendering speed.\n",
    "# Set the path to the DICOM image folder\n",
    "dicom_folder = '/workspaces/codespaces-jupyter/data'\n",
    "\n",
    "# Load the DICOM image stack\n",
    "dicom_files = os.listdir(dicom_folder)\n",
    "dicom_slices = []\n",
    "for file in sorted(dicom_files):\n",
    "    dicom_slice = pydicom.read_file(os.path.join(dicom_folder, file))\n",
    "    dicom_slices.append(dicom_slice)\n",
    "\n",
    "# Get the image dimensions and voxel spacing\n",
    "x_spacing, y_spacing = float(dicom_slices[0].PixelSpacing[0]), float(dicom_slices[0].PixelSpacing[1])\n",
    "z_spacing = float(dicom_slices[1].SliceLocation - dicom_slices[0].SliceLocation)\n",
    "x_dim, y_dim = int(dicom_slices[0].Columns), int(dicom_slices[0].Rows)\n",
    "z_dim = len(dicom_slices)\n",
    "\n",
    "# Create a VTK image data object\n",
    "vtk_image = vtk.vtkImageData()\n",
    "vtk_image.SetDimensions(x_dim, y_dim, z_dim)\n",
    "vtk_image.SetSpacing(x_spacing, y_spacing, z_spacing)\n",
    "vtk_image.AllocateScalars(vtk.VTK_UNSIGNED_SHORT, 1)\n",
    "\n",
    "# Copy the DICOM pixel data into the VTK image data object\n",
    "for i, dicom_slice in enumerate(dicom_slices):\n",
    "    pixel_data = dicom_slice.pixel_array.astype('uint16')\n",
    "    vtk_image.GetPointData().GetScalars().SetVoidArray(pixel_data, x_dim*y_dim*i, x_dim*y_dim, 1)\n",
    "\n",
    "# Create a VTK renderer and window\n",
    "renderer = vtk.vtkRenderer()\n",
    "renderer.SetBackground(0.2, 0.3, 0.4)\n",
    "window = vtk.vtkRenderWindow()\n",
    "window.SetSize(800, 600)\n",
    "window.AddRenderer(renderer)\n",
    "\n",
    "# Create a VTK volume and mapper\n",
    "volume_mapper = vtk.vtkFixedPointVolumeRayCastMapper()\n",
    "volume_mapper.SetInputData(vtk_image)\n",
    "volume_mapper.SetBlendModeToMaximumIntensity()\n",
    "volume_mapper.SetSampleDistance(0.5)\n",
    "volume_mapper.SetNumberOfThreads(8)\n",
    "volume = vtk.vtkVolume()\n",
    "volume.SetMapper(volume_mapper)\n",
    "\n",
    "# Add the volume to the renderer and render the window\n",
    "renderer.AddVolume(volume)\n",
    "window.Render()\n",
    "window.SetWindowName(\"DICOM Image Viewer\")\n",
    "\n",
    "# Start the event loop\n",
    "iren = vtk.vtkRenderWindowInteractor()\n",
    "iren.SetRenderWindow(window)\n",
    "iren.Initialize()\n",
    "iren.Start()\n",
    "\n",
    "\n",
    "####This code loads a DICOM image stack from a folder, extracts the image dimensions and voxel spacing, \n",
    "# creates a VTK image data object, copies the DICOM pixel data into the VTK image data object, \n",
    "# creates a VTK renderer and window, creates a VTK volume and mapper, adds the volume to the renderer, \n",
    "# and starts the VTK event loop to display the image. \n",
    "# You can modify the parameters of the volume mapper to adjust the image quality and rendering speed.\n"
   ]
  }
 ],
 "metadata": {
  "kernelspec": {
   "display_name": "Python 3",
   "language": "python",
   "name": "python3"
  },
  "language_info": {
   "codemirror_mode": {
    "name": "ipython",
    "version": 3
   },
   "file_extension": ".py",
   "mimetype": "text/x-python",
   "name": "python",
   "nbconvert_exporter": "python",
   "pygments_lexer": "ipython3",
   "version": "3.10.4"
  },
  "orig_nbformat": 4
 },
 "nbformat": 4,
 "nbformat_minor": 2
}
