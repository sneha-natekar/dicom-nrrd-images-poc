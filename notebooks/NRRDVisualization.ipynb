{
 "cells": [
  {
   "cell_type": "code",
   "execution_count": null,
   "metadata": {},
   "outputs": [],
   "source": [
    "# install required libraries\n",
    "!pip install pynrrd\n",
    "!pip install imageio"
   ]
  },
  {
   "cell_type": "code",
   "execution_count": null,
   "metadata": {},
   "outputs": [],
   "source": [
    "import numpy as np          # import numpy library for numerical operations\n",
    "import nrrd                 # import nrrd library for reading NRRD files\n",
    "import imageio              # import imageio library for creating video and GIF files\n",
    "from IPython.display import Image as IPythonImage"
   ]
  },
  {
   "cell_type": "code",
   "execution_count": null,
   "metadata": {},
   "outputs": [],
   "source": [
    "def load_nrrd_file(file_path):\n",
    "    # Load the NRRD file and extract the video frames from the data array\n",
    "    data, metadata = nrrd.read(file_path)\n",
    "    num_videos = metadata['sizes'][0]\n",
    "    num_frames = metadata['sizes'][1]\n",
    "    frame_shape = tuple(metadata['sizes'][2:])\n",
    "    video_array = np.reshape(data, (num_videos, num_frames,) + frame_shape)\n",
    "    # Return the video array, number of frames, and number of videos\n",
    "    return video_array, num_frames, num_videos"
   ]
  },
  {
   "cell_type": "code",
   "execution_count": null,
   "metadata": {},
   "outputs": [],
   "source": [
    "def normalize_video_array(video_array):\n",
    "    # Normalize the video array to have pixel values between 0 and 255\n",
    "    normalized_video_array = ((video_array - video_array.min()) / (video_array.max() - video_array.min())) * 255\n",
    "    normalized_video_array = normalized_video_array.astype(np.uint8)\n",
    "    # Return the normalized video array\n",
    "    return normalized_video_array"
   ]
  },
  {
   "cell_type": "code",
   "execution_count": null,
   "metadata": {},
   "outputs": [],
   "source": [
    "def create_image_lists(video_array):\n",
    "    # Create a list of images for the video and GIF\n",
    "    video_image_list = []\n",
    "    gif_image_list = []\n",
    "    for i in range(num_frames):\n",
    "        # Create a list of frames for this time step\n",
    "        time_step_frames = []\n",
    "        for j in range(num_videos):\n",
    "            # Extract the frame from the j-th 3D array at the i-th time step\n",
    "            frame = video_array[j, i]\n",
    "            # Convert grayscale image to color\n",
    "            img_color = np.stack((frame,) * 3, axis=-1)\n",
    "            time_step_frames.append(img_color)\n",
    "        # Combine the frames for this time step into a single image\n",
    "        image = np.concatenate(time_step_frames, axis=1)\n",
    "        video_image_list.append(image)\n",
    "        gif_image_list.append(image[:,:,::-1]) # Convert BGR to RGB for the GIF\n",
    "    # Return the video and GIF image lists\n",
    "    return video_image_list, gif_image_list"
   ]
  },
  {
   "cell_type": "code",
   "execution_count": null,
   "metadata": {},
   "outputs": [],
   "source": [
    "def create_gif(gif_image_list, output_path, fps):\n",
    "    # Create a GIF file using imageio\n",
    "    imageio.mimsave(output_path, gif_image_list, duration=fps)"
   ]
  },
  {
   "cell_type": "code",
   "execution_count": null,
   "metadata": {
    "scrolled": true
   },
   "outputs": [],
   "source": [
    "# Load the NRRD file\n",
    "data_path = '/workspaces/dicom-nrrd-images-poc/data/dt-helix.nhdr'\n",
    "video_array, num_frames, num_videos = load_nrrd_file(data_path)\n",
    "\n",
    "# Normalize the video array\n",
    "normalized_video_array = normalize_video_array(video_array)\n",
    "\n",
    "# Create image lists for the video and GIF\n",
    "video_image_list, gif_image_list = create_image_lists(normalized_video_array)\n",
    "\n",
    "# Create GIF file\n",
    "gif_output_path = '/workspaces/dicom-nrrd-images-poc/data/dt-helix.gif'\n",
    "create_gif(gif_image_list, gif_output_path, fps=10)\n",
    "IPythonImage(filename=gif_output_path, format='png')"
   ]
  },
  {
   "cell_type": "code",
   "execution_count": null,
   "metadata": {},
   "outputs": [],
   "source": [
    "# Load the NRRD file\n",
    "data_path = '/workspaces/dicom-nrrd-images-poc/data/dt-helix.nhdr'\n",
    "video_array, num_frames, num_videos = load_nrrd_file(data_path)\n",
    "\n",
    "# Normalize the video array\n",
    "normalized_video_array = normalize_video_array(video_array)\n",
    "\n",
    "# Create image lists for the video and GIF\n",
    "video_image_list, gif_image_list = create_image_lists(normalized_video_array)\n",
    "\n",
    "# Create  GIF file\n",
    "gif_output_path = 'dt-helix.gif'\n",
    "create_gif(gif_image_list, gif_output_path, fps=10)\n",
    "IPythonImage(filename=gif_output_path, format='png')"
   ]
  },
  {
   "cell_type": "code",
   "execution_count": null,
   "metadata": {},
   "outputs": [],
   "source": []
  }
 ],
 "metadata": {
  "kernelspec": {
   "display_name": "Python 3 (ipykernel)",
   "language": "python",
   "name": "python3"
  },
  "language_info": {
   "codemirror_mode": {
    "name": "ipython",
    "version": 3
   },
   "file_extension": ".py",
   "mimetype": "text/x-python",
   "name": "python",
   "nbconvert_exporter": "python",
   "pygments_lexer": "ipython3",
   "version": "3.10.4"
  }
 },
 "nbformat": 4,
 "nbformat_minor": 2
}
