{
 "cells": [
  {
   "cell_type": "code",
   "execution_count": 5,
   "metadata": {},
   "outputs": [
    {
     "ename": "ImportError",
     "evalue": "libGL.so.1: cannot open shared object file: No such file or directory",
     "output_type": "error",
     "traceback": [
      "\u001b[0;31m---------------------------------------------------------------------------\u001b[0m",
      "\u001b[0;31mImportError\u001b[0m                               Traceback (most recent call last)",
      "Cell \u001b[0;32mIn[5], line 3\u001b[0m\n\u001b[1;32m      1\u001b[0m \u001b[39mimport\u001b[39;00m \u001b[39mos\u001b[39;00m\n\u001b[1;32m      2\u001b[0m \u001b[39mimport\u001b[39;00m \u001b[39mnumpy\u001b[39;00m \u001b[39mas\u001b[39;00m \u001b[39mnp\u001b[39;00m\n\u001b[0;32m----> 3\u001b[0m \u001b[39mfrom\u001b[39;00m \u001b[39mmayavi\u001b[39;00m \u001b[39mimport\u001b[39;00m mlab\n\u001b[1;32m      4\u001b[0m \u001b[39m#import mayavi.mlab as mlab\u001b[39;00m\n\u001b[1;32m      5\u001b[0m \u001b[39mimport\u001b[39;00m \u001b[39mpydicom\u001b[39;00m\n",
      "File \u001b[0;32m~/.python/current/lib/python3.10/site-packages/mayavi/mlab.py:16\u001b[0m\n\u001b[1;32m      8\u001b[0m \u001b[39m# Author: Prabhu Ramachandran <prabhu_r@users.sf.net>\u001b[39;00m\n\u001b[1;32m      9\u001b[0m \u001b[39m#         Gael Varoquaux <gael dot varoquaux at normalesup dot org>\u001b[39;00m\n\u001b[1;32m     10\u001b[0m \u001b[39m# Copyright (c) 2007-2020, Enthought, Inc.\u001b[39;00m\n\u001b[0;32m   (...)\u001b[0m\n\u001b[1;32m     13\u001b[0m \n\u001b[1;32m     14\u001b[0m \u001b[39m# Mayavi imports\u001b[39;00m\n\u001b[1;32m     15\u001b[0m \u001b[39mfrom\u001b[39;00m \u001b[39mmayavi\u001b[39;00m\u001b[39m.\u001b[39;00m\u001b[39mcore\u001b[39;00m\u001b[39m.\u001b[39;00m\u001b[39mcommon\u001b[39;00m \u001b[39mimport\u001b[39;00m process_ui_events\n\u001b[0;32m---> 16\u001b[0m \u001b[39mfrom\u001b[39;00m \u001b[39mmayavi\u001b[39;00m\u001b[39m.\u001b[39;00m\u001b[39mtools\u001b[39;00m\u001b[39m.\u001b[39;00m\u001b[39mcamera\u001b[39;00m \u001b[39mimport\u001b[39;00m view, roll, yaw, pitch, move\n\u001b[1;32m     17\u001b[0m \u001b[39mfrom\u001b[39;00m \u001b[39mmayavi\u001b[39;00m\u001b[39m.\u001b[39;00m\u001b[39mtools\u001b[39;00m\u001b[39m.\u001b[39;00m\u001b[39mfigure\u001b[39;00m \u001b[39mimport\u001b[39;00m figure, clf, gcf, savefig, \\\n\u001b[1;32m     18\u001b[0m     draw, sync_camera, close, screenshot\n\u001b[1;32m     19\u001b[0m \u001b[39mfrom\u001b[39;00m \u001b[39mmayavi\u001b[39;00m\u001b[39m.\u001b[39;00m\u001b[39mtools\u001b[39;00m\u001b[39m.\u001b[39;00m\u001b[39mengine_manager\u001b[39;00m \u001b[39mimport\u001b[39;00m get_engine, show_pipeline, \\\n\u001b[1;32m     20\u001b[0m         options, set_engine\n",
      "File \u001b[0;32m~/.python/current/lib/python3.10/site-packages/mayavi/tools/camera.py:24\u001b[0m\n\u001b[1;32m     20\u001b[0m \u001b[39mfrom\u001b[39;00m \u001b[39mnumpy\u001b[39;00m \u001b[39mimport\u001b[39;00m pi\n\u001b[1;32m     22\u001b[0m \u001b[39m# We can't use gcf, as it creates a circular import in camera management\u001b[39;00m\n\u001b[1;32m     23\u001b[0m \u001b[39m# routines.\u001b[39;00m\n\u001b[0;32m---> 24\u001b[0m \u001b[39mfrom\u001b[39;00m \u001b[39m.\u001b[39;00m\u001b[39mengine_manager\u001b[39;00m \u001b[39mimport\u001b[39;00m get_engine\n\u001b[1;32m     27\u001b[0m \u001b[39mdef\u001b[39;00m \u001b[39mworld_to_display\u001b[39m(x, y, z, figure\u001b[39m=\u001b[39m\u001b[39mNone\u001b[39;00m):\n\u001b[1;32m     28\u001b[0m \u001b[39m    \u001b[39m\u001b[39m\"\"\" Converts 3D world coordinates to screenshot pixel coordinates.\u001b[39;00m\n\u001b[1;32m     29\u001b[0m \n\u001b[1;32m     30\u001b[0m \u001b[39m        **Parameters**\u001b[39;00m\n\u001b[0;32m   (...)\u001b[0m\n\u001b[1;32m     46\u001b[0m \u001b[39m            Screenshot y coordinate\u001b[39;00m\n\u001b[1;32m     47\u001b[0m \u001b[39m    \"\"\"\u001b[39;00m\n",
      "File \u001b[0;32m~/.python/current/lib/python3.10/site-packages/mayavi/tools/engine_manager.py:14\u001b[0m\n\u001b[1;32m     12\u001b[0m \u001b[39m# Local imports\u001b[39;00m\n\u001b[1;32m     13\u001b[0m \u001b[39mfrom\u001b[39;00m \u001b[39mmayavi\u001b[39;00m\u001b[39m.\u001b[39;00m\u001b[39mpreferences\u001b[39;00m\u001b[39m.\u001b[39;00m\u001b[39mapi\u001b[39;00m \u001b[39mimport\u001b[39;00m preference_manager\n\u001b[0;32m---> 14\u001b[0m \u001b[39mfrom\u001b[39;00m \u001b[39mmayavi\u001b[39;00m\u001b[39m.\u001b[39;00m\u001b[39mcore\u001b[39;00m\u001b[39m.\u001b[39;00m\u001b[39mregistry\u001b[39;00m \u001b[39mimport\u001b[39;00m registry\n\u001b[1;32m     15\u001b[0m \u001b[39mfrom\u001b[39;00m \u001b[39mmayavi\u001b[39;00m\u001b[39m.\u001b[39;00m\u001b[39mcore\u001b[39;00m\u001b[39m.\u001b[39;00m\u001b[39mengine\u001b[39;00m \u001b[39mimport\u001b[39;00m Engine\n\u001b[1;32m     16\u001b[0m \u001b[39mfrom\u001b[39;00m \u001b[39mmayavi\u001b[39;00m\u001b[39m.\u001b[39;00m\u001b[39mcore\u001b[39;00m\u001b[39m.\u001b[39;00m\u001b[39moff_screen_engine\u001b[39;00m \u001b[39mimport\u001b[39;00m OffScreenEngine\n",
      "File \u001b[0;32m~/.python/current/lib/python3.10/site-packages/mayavi/core/registry.py:16\u001b[0m\n\u001b[1;32m     13\u001b[0m \u001b[39mfrom\u001b[39;00m \u001b[39mtraits\u001b[39;00m\u001b[39m.\u001b[39;00m\u001b[39mapi\u001b[39;00m \u001b[39mimport\u001b[39;00m HasTraits, List, Instance, Dict, Str\n\u001b[1;32m     15\u001b[0m \u001b[39m# Local imports.\u001b[39;00m\n\u001b[0;32m---> 16\u001b[0m \u001b[39mfrom\u001b[39;00m \u001b[39mmayavi\u001b[39;00m\u001b[39m.\u001b[39;00m\u001b[39mcore\u001b[39;00m\u001b[39m.\u001b[39;00m\u001b[39mmetadata\u001b[39;00m \u001b[39mimport\u001b[39;00m Metadata, import_symbol\n\u001b[1;32m     18\u001b[0m \u001b[39m# A logger for this module.\u001b[39;00m\n\u001b[1;32m     19\u001b[0m logger \u001b[39m=\u001b[39m logging\u001b[39m.\u001b[39mgetLogger(\u001b[39m__name__\u001b[39m)\n",
      "File \u001b[0;32m~/.python/current/lib/python3.10/site-packages/mayavi/core/metadata.py:11\u001b[0m\n\u001b[1;32m      5\u001b[0m \u001b[39m# Author: Prabhu Ramachandran <prabhu@aero.iitb.ac.in>\u001b[39;00m\n\u001b[1;32m      6\u001b[0m \u001b[39m# Copyright (c) 2008, Enthought, Inc.\u001b[39;00m\n\u001b[1;32m      7\u001b[0m \u001b[39m# License: BSD Style.\u001b[39;00m\n\u001b[1;32m      8\u001b[0m \n\u001b[1;32m      9\u001b[0m \u001b[39m# Enthought library imports.\u001b[39;00m\n\u001b[1;32m     10\u001b[0m \u001b[39mfrom\u001b[39;00m \u001b[39mtraits\u001b[39;00m\u001b[39m.\u001b[39;00m\u001b[39mapi\u001b[39;00m \u001b[39mimport\u001b[39;00m HasTraits, Str, Callable, Either, List, Instance\n\u001b[0;32m---> 11\u001b[0m \u001b[39mfrom\u001b[39;00m \u001b[39mmayavi\u001b[39;00m\u001b[39m.\u001b[39;00m\u001b[39mcore\u001b[39;00m\u001b[39m.\u001b[39;00m\u001b[39mpipeline_info\u001b[39;00m \u001b[39mimport\u001b[39;00m PipelineInfo\n\u001b[1;32m     14\u001b[0m \u001b[39m################################################################################\u001b[39;00m\n\u001b[1;32m     15\u001b[0m \u001b[39m# Utility functions.\u001b[39;00m\n\u001b[1;32m     16\u001b[0m \u001b[39m################################################################################\u001b[39;00m\n\u001b[1;32m     17\u001b[0m \u001b[39mdef\u001b[39;00m \u001b[39mimport_symbol\u001b[39m(symbol_path):\n",
      "File \u001b[0;32m~/.python/current/lib/python3.10/site-packages/mayavi/core/pipeline_info.py:12\u001b[0m\n\u001b[1;32m      5\u001b[0m \u001b[39m# Author: Prabhu Ramachandran <prabhu@aero.iitb.ac.in>\u001b[39;00m\n\u001b[1;32m      6\u001b[0m \u001b[39m# Copyright (c) 2008-2020, Prabhu Ramachandran Enthought, Inc.\u001b[39;00m\n\u001b[1;32m      7\u001b[0m \u001b[39m# License: BSD Style.\u001b[39;00m\n\u001b[1;32m      8\u001b[0m \n\u001b[1;32m      9\u001b[0m \u001b[39m# Enthought library imports.\u001b[39;00m\n\u001b[1;32m     10\u001b[0m \u001b[39mfrom\u001b[39;00m \u001b[39mtraits\u001b[39;00m\u001b[39m.\u001b[39;00m\u001b[39mapi\u001b[39;00m \u001b[39mimport\u001b[39;00m HasTraits, Enum, List\n\u001b[0;32m---> 12\u001b[0m \u001b[39mfrom\u001b[39;00m \u001b[39m.\u001b[39;00m\u001b[39mutils\u001b[39;00m \u001b[39mimport\u001b[39;00m get_tvtk_dataset_name\n\u001b[1;32m     14\u001b[0m \u001b[39m# The list of datasets supported.\u001b[39;00m\n\u001b[1;32m     15\u001b[0m DataSet \u001b[39m=\u001b[39m Enum(\u001b[39m'\u001b[39m\u001b[39mnone\u001b[39m\u001b[39m'\u001b[39m, \u001b[39m'\u001b[39m\u001b[39many\u001b[39m\u001b[39m'\u001b[39m, \u001b[39m'\u001b[39m\u001b[39mimage_data\u001b[39m\u001b[39m'\u001b[39m, \u001b[39m'\u001b[39m\u001b[39mrectilinear_grid\u001b[39m\u001b[39m'\u001b[39m,\n\u001b[1;32m     16\u001b[0m                \u001b[39m'\u001b[39m\u001b[39mpoly_data\u001b[39m\u001b[39m'\u001b[39m, \u001b[39m'\u001b[39m\u001b[39mstructured_grid\u001b[39m\u001b[39m'\u001b[39m, \u001b[39m'\u001b[39m\u001b[39munstructured_grid\u001b[39m\u001b[39m'\u001b[39m)\n",
      "File \u001b[0;32m~/.python/current/lib/python3.10/site-packages/mayavi/core/utils.py:2\u001b[0m\n\u001b[1;32m      1\u001b[0m \u001b[39mimport\u001b[39;00m \u001b[39mnumpy\u001b[39;00m \u001b[39mas\u001b[39;00m \u001b[39mnp\u001b[39;00m\n\u001b[0;32m----> 2\u001b[0m \u001b[39mimport\u001b[39;00m \u001b[39mvtk\u001b[39;00m\n\u001b[1;32m      3\u001b[0m \u001b[39mfrom\u001b[39;00m \u001b[39mvtk\u001b[39;00m\u001b[39m.\u001b[39;00m\u001b[39mnumpy_interface\u001b[39;00m \u001b[39mimport\u001b[39;00m dataset_adapter \u001b[39mas\u001b[39;00m dsa\n\u001b[1;32m      4\u001b[0m \u001b[39mfrom\u001b[39;00m \u001b[39mvtk\u001b[39;00m\u001b[39m.\u001b[39;00m\u001b[39mnumpy_interface\u001b[39;00m \u001b[39mimport\u001b[39;00m algorithms \u001b[39mas\u001b[39;00m algs\n",
      "File \u001b[0;32m~/.python/current/lib/python3.10/site-packages/vtk.py:5\u001b[0m\n\u001b[1;32m      3\u001b[0m \u001b[39m# this module has the same contents as vtkmodules.all\u001b[39;00m\n\u001b[1;32m      4\u001b[0m \u001b[39mfrom\u001b[39;00m \u001b[39mvtkmodules\u001b[39;00m\u001b[39m.\u001b[39;00m\u001b[39mvtkCommonCore\u001b[39;00m \u001b[39mimport\u001b[39;00m \u001b[39m*\u001b[39m\n\u001b[0;32m----> 5\u001b[0m \u001b[39mfrom\u001b[39;00m \u001b[39mvtkmodules\u001b[39;00m\u001b[39m.\u001b[39;00m\u001b[39mvtkWebCore\u001b[39;00m \u001b[39mimport\u001b[39;00m \u001b[39m*\u001b[39m\n\u001b[1;32m      6\u001b[0m \u001b[39mfrom\u001b[39;00m \u001b[39mvtkmodules\u001b[39;00m\u001b[39m.\u001b[39;00m\u001b[39mvtkCommonMath\u001b[39;00m \u001b[39mimport\u001b[39;00m \u001b[39m*\u001b[39m\n\u001b[1;32m      7\u001b[0m \u001b[39mfrom\u001b[39;00m \u001b[39mvtkmodules\u001b[39;00m\u001b[39m.\u001b[39;00m\u001b[39mvtkCommonTransforms\u001b[39;00m \u001b[39mimport\u001b[39;00m \u001b[39m*\u001b[39m\n",
      "\u001b[0;31mImportError\u001b[0m: libGL.so.1: cannot open shared object file: No such file or directory"
     ]
    }
   ],
   "source": [
    "import os\n",
    "import numpy as np\n",
    "from mayavi import mlab\n",
    "#import mayavi.mlab as mlab\n",
    "import pydicom\n",
    "\n",
    "# Load the DICOM files\n",
    "dcm_dir = '/workspaces/codespaces-jupyter/data'\n",
    "dcm_files = os.listdir(dcm_dir)\n",
    "dcm_files.sort()\n",
    "data = []\n",
    "for dcm_file in dcm_files:\n",
    "    ds = pydicom.dcmread(os.path.join(dcm_dir, dcm_file))\n",
    "    data.append(ds.pixel_array)\n",
    "\n",
    "# Convert the pixel array data to a 3D numpy array\n",
    "data = np.array(data)\n",
    "\n",
    "# Create a 3D visualization using Mayavi\n",
    "mlab.volume_slice(data, colormap='gray')\n",
    "mlab.show()\n"
   ]
  }
 ],
 "metadata": {
  "kernelspec": {
   "display_name": "Python 3",
   "language": "python",
   "name": "python3"
  },
  "language_info": {
   "codemirror_mode": {
    "name": "ipython",
    "version": 3
   },
   "file_extension": ".py",
   "mimetype": "text/x-python",
   "name": "python",
   "nbconvert_exporter": "python",
   "pygments_lexer": "ipython3",
   "version": "3.10.4"
  },
  "orig_nbformat": 4
 },
 "nbformat": 4,
 "nbformat_minor": 2
}
