{
 "cells": [
  {
   "cell_type": "code",
   "execution_count": 7,
   "metadata": {},
   "outputs": [
    {
     "ename": "TraitError",
     "evalue": "label_image_weights shape expected to have 1 components, but got () components",
     "output_type": "error",
     "traceback": [
      "\u001b[0;31m---------------------------------------------------------------------------\u001b[0m",
      "\u001b[0;31mTraitError\u001b[0m                                Traceback (most recent call last)",
      "Cell \u001b[0;32mIn[7], line 7\u001b[0m\n\u001b[1;32m      5\u001b[0m path \u001b[39m=\u001b[39m \u001b[39m\"\u001b[39m\u001b[39m/workspaces/codespaces-jupyter/data/0002.DCM\u001b[39m\u001b[39m\"\u001b[39m\n\u001b[1;32m      6\u001b[0m image \u001b[39m=\u001b[39m itk\u001b[39m.\u001b[39mimread(path)\n\u001b[0;32m----> 7\u001b[0m itkwidgets\u001b[39m.\u001b[39;49mview(image)\n\u001b[1;32m      8\u001b[0m viewer \u001b[39m=\u001b[39m itkwidgets\u001b[39m.\u001b[39mview(image)\n\u001b[1;32m      9\u001b[0m viewer\u001b[39m.\u001b[39mcmap \u001b[39m=\u001b[39m \u001b[39m'\u001b[39m\u001b[39mGrayscale\u001b[39m\u001b[39m'\u001b[39m\n",
      "File \u001b[0;32m~/.python/current/lib/python3.10/site-packages/itkwidgets/widget_viewer.py:1090\u001b[0m, in \u001b[0;36mview\u001b[0;34m(image, label_image, label_image_names, label_image_weights, label_image_blend, cmap, lut, select_roi, interpolation, gradient_opacity, opacity_gaussians, channels, slicing_planes, shadow, blend_mode, point_sets, point_set_colors, point_set_opacities, point_set_representations, point_set_sizes, geometries, geometry_colors, geometry_opacities, ui_collapsed, rotate, annotations, axes, mode, **kwargs)\u001b[0m\n\u001b[1;32m   1087\u001b[0m     \u001b[39mif\u001b[39;00m image \u001b[39mis\u001b[39;00m \u001b[39mNone\u001b[39;00m \u001b[39mand\u001b[39;00m \u001b[39mlen\u001b[39m(images):  \u001b[39m# only one image is rendered\u001b[39;00m\n\u001b[1;32m   1088\u001b[0m         image \u001b[39m=\u001b[39m images[\u001b[39m0\u001b[39m]\n\u001b[0;32m-> 1090\u001b[0m viewer \u001b[39m=\u001b[39m Viewer(image\u001b[39m=\u001b[39;49mimage,\n\u001b[1;32m   1091\u001b[0m                 label_image\u001b[39m=\u001b[39;49mlabel_image,\n\u001b[1;32m   1092\u001b[0m                 label_image_names\u001b[39m=\u001b[39;49mlabel_image_names,\n\u001b[1;32m   1093\u001b[0m                 label_image_blend\u001b[39m=\u001b[39;49mlabel_image_blend,\n\u001b[1;32m   1094\u001b[0m                 label_image_weights\u001b[39m=\u001b[39;49mlabel_image_weights,\n\u001b[1;32m   1095\u001b[0m                 cmap\u001b[39m=\u001b[39;49mcmap,\n\u001b[1;32m   1096\u001b[0m                 lut\u001b[39m=\u001b[39;49mlut,\n\u001b[1;32m   1097\u001b[0m                 select_roi\u001b[39m=\u001b[39;49mselect_roi,\n\u001b[1;32m   1098\u001b[0m                 interpolation\u001b[39m=\u001b[39;49minterpolation,\n\u001b[1;32m   1099\u001b[0m                 gradient_opacity\u001b[39m=\u001b[39;49mgradient_opacity,\n\u001b[1;32m   1100\u001b[0m                 opacity_gaussians\u001b[39m=\u001b[39;49mopacity_gaussians,\n\u001b[1;32m   1101\u001b[0m                 slicing_planes\u001b[39m=\u001b[39;49mslicing_planes,\n\u001b[1;32m   1102\u001b[0m                 shadow\u001b[39m=\u001b[39;49mshadow, blend_mode\u001b[39m=\u001b[39;49mblend_mode,\n\u001b[1;32m   1103\u001b[0m                 point_sets\u001b[39m=\u001b[39;49mpoint_sets,\n\u001b[1;32m   1104\u001b[0m                 point_set_colors\u001b[39m=\u001b[39;49mpoint_set_colors,\n\u001b[1;32m   1105\u001b[0m                 point_set_opacities\u001b[39m=\u001b[39;49mpoint_set_opacities,\n\u001b[1;32m   1106\u001b[0m                 point_set_representations\u001b[39m=\u001b[39;49mpoint_set_representations,\n\u001b[1;32m   1107\u001b[0m                 point_set_sizes\u001b[39m=\u001b[39;49mpoint_set_sizes,\n\u001b[1;32m   1108\u001b[0m                 geometries\u001b[39m=\u001b[39;49mgeometries, geometry_colors\u001b[39m=\u001b[39;49mgeometry_colors,\n\u001b[1;32m   1109\u001b[0m                 geometry_opacities\u001b[39m=\u001b[39;49mgeometry_opacities,\n\u001b[1;32m   1110\u001b[0m                 rotate\u001b[39m=\u001b[39;49mrotate, ui_collapsed\u001b[39m=\u001b[39;49mui_collapsed,\n\u001b[1;32m   1111\u001b[0m                 annotations\u001b[39m=\u001b[39;49mannotations, axes\u001b[39m=\u001b[39;49maxes, mode\u001b[39m=\u001b[39;49mmode,\n\u001b[1;32m   1112\u001b[0m                 \u001b[39m*\u001b[39;49m\u001b[39m*\u001b[39;49mkwargs)\n\u001b[1;32m   1113\u001b[0m \u001b[39mreturn\u001b[39;00m viewer\n",
      "File \u001b[0;32m~/.python/current/lib/python3.10/site-packages/itkwidgets/widget_viewer.py:369\u001b[0m, in \u001b[0;36mViewer.__init__\u001b[0;34m(self, **kwargs)\u001b[0m\n\u001b[1;32m    365\u001b[0m \u001b[39mif\u001b[39;00m have_label_image:\n\u001b[1;32m    366\u001b[0m     \u001b[39m# Interpolation is not currently supported with label maps\u001b[39;00m\n\u001b[1;32m    367\u001b[0m     kwargs[\u001b[39m'\u001b[39m\u001b[39minterpolation\u001b[39m\u001b[39m'\u001b[39m] \u001b[39m=\u001b[39m \u001b[39mFalse\u001b[39;00m\n\u001b[0;32m--> 369\u001b[0m \u001b[39msuper\u001b[39;49m(Viewer, \u001b[39mself\u001b[39;49m)\u001b[39m.\u001b[39;49m\u001b[39m__init__\u001b[39;49m(\u001b[39m*\u001b[39;49m\u001b[39m*\u001b[39;49mkwargs)\n\u001b[1;32m    371\u001b[0m \u001b[39mif\u001b[39;00m \u001b[39mnot\u001b[39;00m \u001b[39mself\u001b[39m\u001b[39m.\u001b[39mimage \u001b[39mand\u001b[39;00m \u001b[39mnot\u001b[39;00m \u001b[39mself\u001b[39m\u001b[39m.\u001b[39mlabel_image:\n\u001b[1;32m    372\u001b[0m     \u001b[39mreturn\u001b[39;00m\n",
      "File \u001b[0;32m~/.python/current/lib/python3.10/site-packages/ipywidgets/widgets/widget.py:477\u001b[0m, in \u001b[0;36mWidget.__init__\u001b[0;34m(self, **kwargs)\u001b[0m\n\u001b[1;32m    475\u001b[0m \u001b[39m\u001b[39m\u001b[39m\"\"\"Public constructor\"\"\"\u001b[39;00m\n\u001b[1;32m    476\u001b[0m \u001b[39mself\u001b[39m\u001b[39m.\u001b[39m_model_id \u001b[39m=\u001b[39m kwargs\u001b[39m.\u001b[39mpop(\u001b[39m'\u001b[39m\u001b[39mmodel_id\u001b[39m\u001b[39m'\u001b[39m, \u001b[39mNone\u001b[39;00m)\n\u001b[0;32m--> 477\u001b[0m \u001b[39msuper\u001b[39;49m(Widget, \u001b[39mself\u001b[39;49m)\u001b[39m.\u001b[39;49m\u001b[39m__init__\u001b[39;49m(\u001b[39m*\u001b[39;49m\u001b[39m*\u001b[39;49mkwargs)\n\u001b[1;32m    479\u001b[0m Widget\u001b[39m.\u001b[39m_call_widget_constructed(\u001b[39mself\u001b[39m)\n\u001b[1;32m    480\u001b[0m \u001b[39mself\u001b[39m\u001b[39m.\u001b[39mopen()\n",
      "File \u001b[0;32m~/.local/lib/python3.10/site-packages/traitlets/traitlets.py:1362\u001b[0m, in \u001b[0;36mHasTraits.__init__\u001b[0;34m(self, *args, **kwargs)\u001b[0m\n\u001b[1;32m   1360\u001b[0m \u001b[39mfor\u001b[39;00m key \u001b[39min\u001b[39;00m changed:\n\u001b[1;32m   1361\u001b[0m     value \u001b[39m=\u001b[39m \u001b[39mself\u001b[39m\u001b[39m.\u001b[39m_traits[key]\u001b[39m.\u001b[39m_cross_validate(\u001b[39mself\u001b[39m, \u001b[39mgetattr\u001b[39m(\u001b[39mself\u001b[39m, key))\n\u001b[0;32m-> 1362\u001b[0m     \u001b[39mself\u001b[39;49m\u001b[39m.\u001b[39;49mset_trait(key, value)\n\u001b[1;32m   1363\u001b[0m     changes[key][\u001b[39m'\u001b[39m\u001b[39mnew\u001b[39m\u001b[39m'\u001b[39m] \u001b[39m=\u001b[39m value\n\u001b[1;32m   1364\u001b[0m \u001b[39mself\u001b[39m\u001b[39m.\u001b[39m_cross_validation_lock \u001b[39m=\u001b[39m \u001b[39mFalse\u001b[39;00m\n",
      "File \u001b[0;32m~/.local/lib/python3.10/site-packages/traitlets/traitlets.py:1742\u001b[0m, in \u001b[0;36mHasTraits.set_trait\u001b[0;34m(self, name, value)\u001b[0m\n\u001b[1;32m   1740\u001b[0m     \u001b[39mraise\u001b[39;00m TraitError(\u001b[39mf\u001b[39m\u001b[39m\"\u001b[39m\u001b[39mClass \u001b[39m\u001b[39m{\u001b[39;00m\u001b[39mcls\u001b[39m\u001b[39m.\u001b[39m\u001b[39m__name__\u001b[39m\u001b[39m}\u001b[39;00m\u001b[39m does not have a trait named \u001b[39m\u001b[39m{\u001b[39;00mname\u001b[39m}\u001b[39;00m\u001b[39m\"\u001b[39m)\n\u001b[1;32m   1741\u001b[0m \u001b[39melse\u001b[39;00m:\n\u001b[0;32m-> 1742\u001b[0m     \u001b[39mgetattr\u001b[39;49m(\u001b[39mcls\u001b[39;49m, name)\u001b[39m.\u001b[39;49mset(\u001b[39mself\u001b[39;49m, value)\n",
      "File \u001b[0;32m~/.python/current/lib/python3.10/site-packages/traittypes/traittypes.py:108\u001b[0m, in \u001b[0;36mArray.set\u001b[0;34m(self, obj, value)\u001b[0m\n\u001b[1;32m    107\u001b[0m \u001b[39mdef\u001b[39;00m \u001b[39mset\u001b[39m(\u001b[39mself\u001b[39m, obj, value):\n\u001b[0;32m--> 108\u001b[0m     new_value \u001b[39m=\u001b[39m \u001b[39mself\u001b[39;49m\u001b[39m.\u001b[39;49m_validate(obj, value)\n\u001b[1;32m    109\u001b[0m     old_value \u001b[39m=\u001b[39m obj\u001b[39m.\u001b[39m_trait_values\u001b[39m.\u001b[39mget(\u001b[39mself\u001b[39m\u001b[39m.\u001b[39mname, \u001b[39mself\u001b[39m\u001b[39m.\u001b[39mdefault_value)\n\u001b[1;32m    110\u001b[0m     obj\u001b[39m.\u001b[39m_trait_values[\u001b[39mself\u001b[39m\u001b[39m.\u001b[39mname] \u001b[39m=\u001b[39m new_value\n",
      "File \u001b[0;32m~/.local/lib/python3.10/site-packages/traitlets/traitlets.py:738\u001b[0m, in \u001b[0;36mTraitType._validate\u001b[0;34m(self, obj, value)\u001b[0m\n\u001b[1;32m    736\u001b[0m     \u001b[39mreturn\u001b[39;00m value\n\u001b[1;32m    737\u001b[0m \u001b[39mif\u001b[39;00m \u001b[39mhasattr\u001b[39m(\u001b[39mself\u001b[39m, \u001b[39m\"\u001b[39m\u001b[39mvalidate\u001b[39m\u001b[39m\"\u001b[39m):\n\u001b[0;32m--> 738\u001b[0m     value \u001b[39m=\u001b[39m \u001b[39mself\u001b[39;49m\u001b[39m.\u001b[39;49mvalidate(obj, value)\n\u001b[1;32m    739\u001b[0m \u001b[39mif\u001b[39;00m obj\u001b[39m.\u001b[39m_cross_validation_lock \u001b[39mis\u001b[39;00m \u001b[39mFalse\u001b[39;00m:\n\u001b[1;32m    740\u001b[0m     value \u001b[39m=\u001b[39m \u001b[39mself\u001b[39m\u001b[39m.\u001b[39m_cross_validate(obj, value)\n",
      "File \u001b[0;32m~/.python/current/lib/python3.10/site-packages/ipydatawidgets/ndarray/traits.py:25\u001b[0m, in \u001b[0;36mNDArray.validate\u001b[0;34m(self, obj, value)\u001b[0m\n\u001b[1;32m     24\u001b[0m \u001b[39mdef\u001b[39;00m \u001b[39mvalidate\u001b[39m(\u001b[39mself\u001b[39m, obj, value):\n\u001b[0;32m---> 25\u001b[0m     value \u001b[39m=\u001b[39m \u001b[39msuper\u001b[39;49m(NDArray, \u001b[39mself\u001b[39;49m)\u001b[39m.\u001b[39;49mvalidate(obj, value)\n\u001b[1;32m     26\u001b[0m     \u001b[39mif\u001b[39;00m value \u001b[39mis\u001b[39;00m \u001b[39mNone\u001b[39;00m \u001b[39mor\u001b[39;00m value \u001b[39mis\u001b[39;00m Undefined:\n\u001b[1;32m     27\u001b[0m         \u001b[39mreturn\u001b[39;00m value\n",
      "File \u001b[0;32m~/.python/current/lib/python3.10/site-packages/traittypes/traittypes.py:105\u001b[0m, in \u001b[0;36mArray.validate\u001b[0;34m(self, obj, value)\u001b[0m\n\u001b[1;32m    103\u001b[0m \u001b[39mexcept\u001b[39;00m (\u001b[39mValueError\u001b[39;00m, \u001b[39mTypeError\u001b[39;00m) \u001b[39mas\u001b[39;00m e:\n\u001b[1;32m    104\u001b[0m     \u001b[39mraise\u001b[39;00m TraitError(e)\n\u001b[0;32m--> 105\u001b[0m \u001b[39mreturn\u001b[39;00m \u001b[39msuper\u001b[39;49m(Array, \u001b[39mself\u001b[39;49m)\u001b[39m.\u001b[39;49mvalidate(obj, value)\n",
      "File \u001b[0;32m~/.python/current/lib/python3.10/site-packages/traittypes/traittypes.py:76\u001b[0m, in \u001b[0;36mSciType.validate\u001b[0;34m(self, obj, value)\u001b[0m\n\u001b[1;32m     74\u001b[0m \u001b[39mtry\u001b[39;00m:\n\u001b[1;32m     75\u001b[0m     \u001b[39mfor\u001b[39;00m validator \u001b[39min\u001b[39;00m \u001b[39mself\u001b[39m\u001b[39m.\u001b[39mvalidators:\n\u001b[0;32m---> 76\u001b[0m         value \u001b[39m=\u001b[39m validator(\u001b[39mself\u001b[39;49m, value)\n\u001b[1;32m     77\u001b[0m     \u001b[39mreturn\u001b[39;00m value\n\u001b[1;32m     78\u001b[0m \u001b[39mexcept\u001b[39;00m (\u001b[39mValueError\u001b[39;00m, \u001b[39mTypeError\u001b[39;00m) \u001b[39mas\u001b[39;00m e:\n",
      "File \u001b[0;32m~/.python/current/lib/python3.10/site-packages/ipydatawidgets/ndarray/traits.py:40\u001b[0m, in \u001b[0;36mshape_constraints.<locals>.validator\u001b[0;34m(trait, value)\u001b[0m\n\u001b[1;32m     38\u001b[0m     \u001b[39mreturn\u001b[39;00m value\n\u001b[1;32m     39\u001b[0m \u001b[39mif\u001b[39;00m \u001b[39mlen\u001b[39m(value\u001b[39m.\u001b[39mshape) \u001b[39m!=\u001b[39m \u001b[39mlen\u001b[39m(args):\n\u001b[0;32m---> 40\u001b[0m     \u001b[39mraise\u001b[39;00m TraitError(\u001b[39m'\u001b[39m\u001b[39m%s\u001b[39;00m\u001b[39m shape expected to have \u001b[39m\u001b[39m%s\u001b[39;00m\u001b[39m components, but got \u001b[39m\u001b[39m%s\u001b[39;00m\u001b[39m components\u001b[39m\u001b[39m'\u001b[39m \u001b[39m%\u001b[39m (\n\u001b[1;32m     41\u001b[0m         trait\u001b[39m.\u001b[39mname, \u001b[39mlen\u001b[39m(args), value\u001b[39m.\u001b[39mshape))\n\u001b[1;32m     42\u001b[0m \u001b[39mfor\u001b[39;00m i, constraint \u001b[39min\u001b[39;00m \u001b[39menumerate\u001b[39m(args):\n\u001b[1;32m     43\u001b[0m     \u001b[39mif\u001b[39;00m constraint \u001b[39mis\u001b[39;00m \u001b[39mnot\u001b[39;00m \u001b[39mNone\u001b[39;00m:\n",
      "\u001b[0;31mTraitError\u001b[0m: label_image_weights shape expected to have 1 components, but got () components"
     ]
    }
   ],
   "source": [
    "\n",
    "import itk\n",
    "import itkwidgets\n",
    "\n",
    "\n",
    "path = \"/workspaces/codespaces-jupyter/data/0002.DCM\"\n",
    "image = itk.imread(path)\n",
    "itkwidgets.view(image)\n",
    "viewer = itkwidgets.view(image)\n",
    "viewer.cmap = 'Grayscale'\n",
    "viewer.opacity = [0.0, 0.0, 0.2, 0.4, 0.6, 0.8, 1.0]\n",
    "import ipywidgets as widgets\n",
    "from IPython.display import display\n",
    "\n",
    "# Define a slider to adjust the opacity\n",
    "opacity_slider = widgets.FloatSlider(min=0.0, max=1.0, step=0.1, value=1.0)\n",
    "widgets.jslink((opacity_slider, 'value'), (viewer, 'opacity'))\n",
    "\n",
    "# Define a button to reset the view\n",
    "reset_button = widgets.Button(description='Reset View')\n",
    "def reset_view(button):\n",
    "    viewer.reset_camera()\n",
    "reset_button.on_click(reset_view)\n",
    "\n",
    "# Display the controls\n",
    "display(widgets.HBox([opacity_slider, reset_button]))\n"
   ]
  }
 ],
 "metadata": {
  "kernelspec": {
   "display_name": "Python 3",
   "language": "python",
   "name": "python3"
  },
  "language_info": {
   "codemirror_mode": {
    "name": "ipython",
    "version": 3
   },
   "file_extension": ".py",
   "mimetype": "text/x-python",
   "name": "python",
   "nbconvert_exporter": "python",
   "pygments_lexer": "ipython3",
   "version": "3.10.4"
  },
  "orig_nbformat": 4
 },
 "nbformat": 4,
 "nbformat_minor": 2
}
