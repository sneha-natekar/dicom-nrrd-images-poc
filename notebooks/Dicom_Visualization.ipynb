{
 "cells": [
  {
   "cell_type": "code",
   "execution_count": null,
   "metadata": {},
   "outputs": [],
   "source": [
    "# install required libraries\n",
    "!pip install pydicom\n",
    "!pip install imageio"
   ]
  },
  {
   "cell_type": "code",
   "execution_count": null,
   "metadata": {},
   "outputs": [],
   "source": [
    "# import required libraries\n",
    "import pydicom\n",
    "import numpy as np\n",
    "from PIL import Image\n",
    "import imageio\n",
    "from IPython.display import Image as IPythonImage"
   ]
  },
  {
   "cell_type": "code",
   "execution_count": null,
   "metadata": {},
   "outputs": [],
   "source": [
    "def load_dicom_image(file_path):\n",
    "    \"\"\"\n",
    "    Load a DICOM image from a file and return it as a NumPy array.\n",
    "    \"\"\"\n",
    "    ds = pydicom.dcmread(file_path)\n",
    "    pixel_array = ds.pixel_array\n",
    "    return pixel_array"
   ]
  },
  {
   "cell_type": "code",
   "execution_count": null,
   "metadata": {},
   "outputs": [],
   "source": [
    "def visualize_dicom_image(image_array):\n",
    "    \"\"\"\n",
    "    Create a list of PIL Image objects from a NumPy array representing a DICOM image.\n",
    "    \"\"\"\n",
    "    image_list = [Image.fromarray(frame) for frame in image_array]\n",
    "    return image_list"
   ]
  },
  {
   "cell_type": "code",
   "execution_count": null,
   "metadata": {},
   "outputs": [],
   "source": [
    "def save_gif_image(image_list, file_path):\n",
    "    \"\"\"\n",
    "    Save a list of PIL Image objects as a GIF image with a filename derived from the input file path.\n",
    "    \"\"\"\n",
    "    file_name = file_path.split('/')[-1].split('.')[0]\n",
    "    output_directory = \"/\".join(file_path.split('/')[:-1])+'/'\n",
    "    output_file_path = f\"{output_directory+file_name}.gif\"\n",
    "    image_list[0].save(output_file_path, format='GIF', append_images=image_list[1:], save_all=True, duration=100, loop=0)\n",
    "    return output_file_path"
   ]
  },
  {
   "cell_type": "code",
   "execution_count": null,
   "metadata": {},
   "outputs": [],
   "source": [
    "# Load the DICOM image\n",
    "input_image_path = \"/workspaces/codespaces-jupyter/data/0002.DCM\"\n",
    "image_array = load_dicom_image(input_image_path)\n",
    "\n",
    "# Visualize the DICOM image as a list of PIL Image objects\n",
    "image_list = visualize_dicom_image(image_array)\n",
    "\n",
    "# Save the GIF image with a filename derived from the input DICOM file\n",
    "output_file_path = save_gif_image(image_list, input_image_path)\n",
    "\n",
    "# Display the output GIF image in the notebook\n",
    "IPythonImage(filename=output_file_path, format='png')\n"
   ]
  }
 ],
 "metadata": {
  "kernelspec": {
   "display_name": "Python 3 (ipykernel)",
   "language": "python",
   "name": "python3"
  },
  "language_info": {
   "codemirror_mode": {
    "name": "ipython",
    "version": 3
   },
   "file_extension": ".py",
   "mimetype": "text/x-python",
   "name": "python",
   "nbconvert_exporter": "python",
   "pygments_lexer": "ipython3",
   "version": "3.10.4"
  }
 },
 "nbformat": 4,
 "nbformat_minor": 2
}
