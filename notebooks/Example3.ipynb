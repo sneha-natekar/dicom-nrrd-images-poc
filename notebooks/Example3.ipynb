{
 "cells": [
  {
   "cell_type": "code",
   "execution_count": 2,
   "metadata": {},
   "outputs": [
    {
     "ename": "ImportError",
     "evalue": "libGL.so.1: cannot open shared object file: No such file or directory",
     "output_type": "error",
     "traceback": [
      "\u001b[0;31m---------------------------------------------------------------------------\u001b[0m",
      "\u001b[0;31mImportError\u001b[0m                               Traceback (most recent call last)",
      "Cell \u001b[0;32mIn[2], line 1\u001b[0m\n\u001b[0;32m----> 1\u001b[0m \u001b[39mimport\u001b[39;00m \u001b[39mvtk\u001b[39;00m\n\u001b[1;32m      2\u001b[0m \u001b[39mimport\u001b[39;00m \u001b[39mpydicom\u001b[39;00m\n\u001b[1;32m      3\u001b[0m \u001b[39mfrom\u001b[39;00m \u001b[39mvtk\u001b[39;00m\u001b[39m.\u001b[39;00m\u001b[39mutil\u001b[39;00m \u001b[39mimport\u001b[39;00m numpy_support\n",
      "File \u001b[0;32m~/.python/current/lib/python3.10/site-packages/vtk.py:5\u001b[0m\n\u001b[1;32m      3\u001b[0m \u001b[39m# this module has the same contents as vtkmodules.all\u001b[39;00m\n\u001b[1;32m      4\u001b[0m \u001b[39mfrom\u001b[39;00m \u001b[39mvtkmodules\u001b[39;00m\u001b[39m.\u001b[39;00m\u001b[39mvtkCommonCore\u001b[39;00m \u001b[39mimport\u001b[39;00m \u001b[39m*\u001b[39m\n\u001b[0;32m----> 5\u001b[0m \u001b[39mfrom\u001b[39;00m \u001b[39mvtkmodules\u001b[39;00m\u001b[39m.\u001b[39;00m\u001b[39mvtkWebCore\u001b[39;00m \u001b[39mimport\u001b[39;00m \u001b[39m*\u001b[39m\n\u001b[1;32m      6\u001b[0m \u001b[39mfrom\u001b[39;00m \u001b[39mvtkmodules\u001b[39;00m\u001b[39m.\u001b[39;00m\u001b[39mvtkCommonMath\u001b[39;00m \u001b[39mimport\u001b[39;00m \u001b[39m*\u001b[39m\n\u001b[1;32m      7\u001b[0m \u001b[39mfrom\u001b[39;00m \u001b[39mvtkmodules\u001b[39;00m\u001b[39m.\u001b[39;00m\u001b[39mvtkCommonTransforms\u001b[39;00m \u001b[39mimport\u001b[39;00m \u001b[39m*\u001b[39m\n",
      "\u001b[0;31mImportError\u001b[0m: libGL.so.1: cannot open shared object file: No such file or directory"
     ]
    }
   ],
   "source": [
    "import vtk\n",
    "import pydicom\n",
    "from vtk.util import numpy_support\n",
    "import numpy as np\n",
    "\n",
    "# Load DICOM images\n",
    "dicom_directory = \"/workspaces/codespaces-jupyter/data\"\n",
    "dicom_reader = vtk.vtkDICOMImageReader()\n",
    "dicom_reader.SetDirectoryName(dicom_directory)\n",
    "dicom_reader.Update()\n",
    "\n",
    "# Extract metadata\n",
    "image_data = dicom_reader.GetOutput()\n",
    "spacing = image_data.GetSpacing()\n",
    "origin = image_data.GetOrigin()\n",
    "\n",
    "# Convert image data to numpy array\n",
    "array_data = numpy_support.vtk_to_numpy(image_data.GetPointData().GetScalars())\n",
    "array_data = array_data.reshape(image_data.GetDimensions()[::-1])\n",
    "\n",
    "# Create VTK renderer\n",
    "renderer = vtk.vtkRenderer()\n",
    "renderer.SetBackground(0.2, 0.3, 0.4)\n",
    "\n",
    "# Create VTK volume\n",
    "volume_mapper = vtk.vtkFixedPointVolumeRayCastMapper()\n",
    "volume_mapper.SetInputData(image_data)\n",
    "\n",
    "volume_property = vtk.vtkVolumeProperty()\n",
    "volume_property.ShadeOn()\n",
    "\n",
    "color_function = vtk.vtkColorTransferFunction()\n",
    "color_function.AddRGBPoint(-1000, 0.0, 0.0, 0.0)\n",
    "color_function.AddRGBPoint(500, 1.0, 0.5, 0.3)\n",
    "color_function.AddRGBPoint(1000, 1.0, 1.0, 1.0)\n",
    "\n",
    "opacity_function = vtk.vtkPiecewiseFunction()\n",
    "opacity_function.AddPoint(-1000, 0.0)\n",
    "opacity_function.AddPoint(500, 0.05)\n",
    "opacity_function.AddPoint(1000, 0.1)\n",
    "\n",
    "volume_property.SetColor(color_function)\n",
    "volume_property.SetScalarOpacity(opacity_function)\n",
    "volume_property.SetInterpolationTypeToLinear()\n",
    "\n",
    "volume = vtk.vtkVolume()\n",
    "volume.SetMapper(volume_mapper)\n",
    "volume.SetProperty(volume_property)\n",
    "\n",
    "renderer.AddVolume(volume)\n",
    "\n",
    "# Create VTK render window and interactor\n",
    "render_window = vtk.vtkRenderWindow()\n",
    "render_window.SetSize(800, 800)\n",
    "render_window.AddRenderer(renderer)\n",
    "\n",
    "interactor = vtk.vtkRenderWindowInteractor()\n",
    "interactor.SetRenderWindow(render_window)\n",
    "\n",
    "# Render the scene\n",
    "render_window.Render()\n",
    "interactor.Start()\n"
   ]
  }
 ],
 "metadata": {
  "kernelspec": {
   "display_name": "Python 3",
   "language": "python",
   "name": "python3"
  },
  "language_info": {
   "codemirror_mode": {
    "name": "ipython",
    "version": 3
   },
   "file_extension": ".py",
   "mimetype": "text/x-python",
   "name": "python",
   "nbconvert_exporter": "python",
   "pygments_lexer": "ipython3",
   "version": "3.10.4"
  },
  "orig_nbformat": 4
 },
 "nbformat": 4,
 "nbformat_minor": 2
}
